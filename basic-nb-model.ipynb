{
 "cells": [
  {
   "cell_type": "markdown",
   "id": "e4a211b0",
   "metadata": {
    "_cell_guid": "b1076dfc-b9ad-4769-8c92-a6c4dae69d19",
    "_uuid": "8f2839f25d086af736a60e9eeb907d3b93b6e0e5",
    "papermill": {
     "duration": 0.00628,
     "end_time": "2022-11-06T21:19:47.542490",
     "exception": false,
     "start_time": "2022-11-06T21:19:47.536210",
     "status": "completed"
    },
    "tags": []
   },
   "source": [
    "#### [NLP Processing with Disaster Tweets](https://www.kaggle.com/competitions/nlp-getting-started/data): Basic Naive Bayes Model\n",
    "\n",
    "Using this [data exploration notebook](https://www.kaggle.com/mitchvanlee/basic-data-exploration/edit), I found that:\n",
    "\n",
    "* The keyword column is populated with a non-null value for most rows\n",
    "* Certain keywords are highly predictive of whether or not there is a true disaster\n",
    "* The text column is non-null for all rows\n",
    "* tweets are sort\n",
    "* tweets tend not to have many repeat words\n",
    "\n",
    "\n",
    "In this notebook, I am going to create a Naive Bayes Classifaction Model. As I develop more complicated models, this will provide a good benchmark for comparision."
   ]
  },
  {
   "cell_type": "markdown",
   "id": "a89a1d87",
   "metadata": {
    "papermill": {
     "duration": 0.003581,
     "end_time": "2022-11-06T21:19:47.550703",
     "exception": false,
     "start_time": "2022-11-06T21:19:47.547122",
     "status": "completed"
    },
    "tags": []
   },
   "source": [
    "#### Import packages"
   ]
  },
  {
   "cell_type": "code",
   "execution_count": 1,
   "id": "14283af0",
   "metadata": {
    "execution": {
     "iopub.execute_input": "2022-11-06T21:19:47.560607Z",
     "iopub.status.busy": "2022-11-06T21:19:47.559813Z",
     "iopub.status.idle": "2022-11-06T21:19:48.732509Z",
     "shell.execute_reply": "2022-11-06T21:19:48.731353Z"
    },
    "papermill": {
     "duration": 1.18132,
     "end_time": "2022-11-06T21:19:48.735657",
     "exception": false,
     "start_time": "2022-11-06T21:19:47.554337",
     "status": "completed"
    },
    "tags": []
   },
   "outputs": [],
   "source": [
    "import numpy as np\n",
    "import pandas as pd\n",
    "\n",
    "from sklearn.preprocessing import OneHotEncoder\n",
    "from sklearn.feature_extraction.text import CountVectorizer,TfidfVectorizer\n",
    "from sklearn.naive_bayes import MultinomialNB"
   ]
  },
  {
   "cell_type": "markdown",
   "id": "dbdb6bd3",
   "metadata": {
    "papermill": {
     "duration": 0.00329,
     "end_time": "2022-11-06T21:19:48.742917",
     "exception": false,
     "start_time": "2022-11-06T21:19:48.739627",
     "status": "completed"
    },
    "tags": []
   },
   "source": [
    "#### Load Data"
   ]
  },
  {
   "cell_type": "code",
   "execution_count": 2,
   "id": "5d784eb0",
   "metadata": {
    "execution": {
     "iopub.execute_input": "2022-11-06T21:19:48.751850Z",
     "iopub.status.busy": "2022-11-06T21:19:48.751253Z",
     "iopub.status.idle": "2022-11-06T21:19:48.858930Z",
     "shell.execute_reply": "2022-11-06T21:19:48.857676Z"
    },
    "papermill": {
     "duration": 0.116249,
     "end_time": "2022-11-06T21:19:48.862614",
     "exception": false,
     "start_time": "2022-11-06T21:19:48.746365",
     "status": "completed"
    },
    "tags": []
   },
   "outputs": [
    {
     "data": {
      "text/html": [
       "<div>\n",
       "<style scoped>\n",
       "    .dataframe tbody tr th:only-of-type {\n",
       "        vertical-align: middle;\n",
       "    }\n",
       "\n",
       "    .dataframe tbody tr th {\n",
       "        vertical-align: top;\n",
       "    }\n",
       "\n",
       "    .dataframe thead th {\n",
       "        text-align: right;\n",
       "    }\n",
       "</style>\n",
       "<table border=\"1\" class=\"dataframe\">\n",
       "  <thead>\n",
       "    <tr style=\"text-align: right;\">\n",
       "      <th></th>\n",
       "      <th>id</th>\n",
       "      <th>keyword</th>\n",
       "      <th>location</th>\n",
       "      <th>text</th>\n",
       "      <th>target</th>\n",
       "    </tr>\n",
       "  </thead>\n",
       "  <tbody>\n",
       "    <tr>\n",
       "      <th>31</th>\n",
       "      <td>48</td>\n",
       "      <td>ablaze</td>\n",
       "      <td>Birmingham</td>\n",
       "      <td>@bbcmtd Wholesale Markets ablaze http://t.co/l...</td>\n",
       "      <td>1</td>\n",
       "    </tr>\n",
       "    <tr>\n",
       "      <th>51</th>\n",
       "      <td>74</td>\n",
       "      <td>ablaze</td>\n",
       "      <td>India</td>\n",
       "      <td>Man wife get six years jail for setting ablaze...</td>\n",
       "      <td>1</td>\n",
       "    </tr>\n",
       "    <tr>\n",
       "      <th>52</th>\n",
       "      <td>76</td>\n",
       "      <td>ablaze</td>\n",
       "      <td>Barbados</td>\n",
       "      <td>SANTA CRUZ ÛÓ Head of the St Elizabeth Police...</td>\n",
       "      <td>0</td>\n",
       "    </tr>\n",
       "    <tr>\n",
       "      <th>53</th>\n",
       "      <td>77</td>\n",
       "      <td>ablaze</td>\n",
       "      <td>Anaheim</td>\n",
       "      <td>Police: Arsonist Deliberately Set Black Church...</td>\n",
       "      <td>1</td>\n",
       "    </tr>\n",
       "    <tr>\n",
       "      <th>54</th>\n",
       "      <td>78</td>\n",
       "      <td>ablaze</td>\n",
       "      <td>Abuja</td>\n",
       "      <td>Noches El-Bestia '@Alexis_Sanchez: happy to se...</td>\n",
       "      <td>0</td>\n",
       "    </tr>\n",
       "  </tbody>\n",
       "</table>\n",
       "</div>"
      ],
      "text/plain": [
       "    id keyword    location                                               text  \\\n",
       "31  48  ablaze  Birmingham  @bbcmtd Wholesale Markets ablaze http://t.co/l...   \n",
       "51  74  ablaze       India  Man wife get six years jail for setting ablaze...   \n",
       "52  76  ablaze    Barbados  SANTA CRUZ ÛÓ Head of the St Elizabeth Police...   \n",
       "53  77  ablaze     Anaheim  Police: Arsonist Deliberately Set Black Church...   \n",
       "54  78  ablaze       Abuja  Noches El-Bestia '@Alexis_Sanchez: happy to se...   \n",
       "\n",
       "    target  \n",
       "31       1  \n",
       "51       1  \n",
       "52       0  \n",
       "53       1  \n",
       "54       0  "
      ]
     },
     "execution_count": 2,
     "metadata": {},
     "output_type": "execute_result"
    }
   ],
   "source": [
    "train_df = pd.read_csv(\"/kaggle/input/nlp-getting-started/train.csv\")\n",
    "test_df = pd.read_csv(\"/kaggle/input/nlp-getting-started/test.csv\")\n",
    "\n",
    "train_df.sort_values(\"keyword\").head(n=5)"
   ]
  },
  {
   "cell_type": "markdown",
   "id": "522efc8a",
   "metadata": {
    "papermill": {
     "duration": 0.003651,
     "end_time": "2022-11-06T21:19:48.870550",
     "exception": false,
     "start_time": "2022-11-06T21:19:48.866899",
     "status": "completed"
    },
    "tags": []
   },
   "source": [
    "#### Helper Functions"
   ]
  },
  {
   "cell_type": "code",
   "execution_count": 3,
   "id": "39928a0d",
   "metadata": {
    "execution": {
     "iopub.execute_input": "2022-11-06T21:19:48.880517Z",
     "iopub.status.busy": "2022-11-06T21:19:48.879693Z",
     "iopub.status.idle": "2022-11-06T21:19:48.887264Z",
     "shell.execute_reply": "2022-11-06T21:19:48.885947Z"
    },
    "papermill": {
     "duration": 0.015095,
     "end_time": "2022-11-06T21:19:48.889606",
     "exception": false,
     "start_time": "2022-11-06T21:19:48.874511",
     "status": "completed"
    },
    "tags": []
   },
   "outputs": [],
   "source": [
    "def prep_features(df):\n",
    "    \n",
    "    # vectorize \"text\"\n",
    "    count_vectorizer = CountVectorizer(stop_words=\"english\")\n",
    "    \n",
    "    text_features = count_vectorizer.fit_transform(df[\"text\"]).toarray()\n",
    "    \n",
    "    # one-hot-encode \"keyword\"\n",
    "    df[\"keyword\"] = df[\"keyword\"].fillna(\"\")\n",
    "    \n",
    "    one_hot_encoder = OneHotEncoder()\n",
    "    one_hot_keyword = one_hot_encoder.fit_transform(df[[\"keyword\"]]).toarray()\n",
    "    \n",
    "    X = np.concatenate([text_features, one_hot_keyword], axis=1)\n",
    "    \n",
    "    return X"
   ]
  },
  {
   "cell_type": "markdown",
   "id": "34437ef4",
   "metadata": {
    "papermill": {
     "duration": 0.003754,
     "end_time": "2022-11-06T21:19:48.897312",
     "exception": false,
     "start_time": "2022-11-06T21:19:48.893558",
     "status": "completed"
    },
    "tags": []
   },
   "source": [
    "#### Preprocess Data"
   ]
  },
  {
   "cell_type": "code",
   "execution_count": 4,
   "id": "61cbe668",
   "metadata": {
    "execution": {
     "iopub.execute_input": "2022-11-06T21:19:48.906587Z",
     "iopub.status.busy": "2022-11-06T21:19:48.906152Z",
     "iopub.status.idle": "2022-11-06T21:19:53.646294Z",
     "shell.execute_reply": "2022-11-06T21:19:53.645128Z"
    },
    "papermill": {
     "duration": 4.748018,
     "end_time": "2022-11-06T21:19:53.649115",
     "exception": false,
     "start_time": "2022-11-06T21:19:48.901097",
     "status": "completed"
    },
    "tags": []
   },
   "outputs": [],
   "source": [
    "all_df = pd.concat([train_df, test_df])\n",
    "\n",
    "X = prep_features(all_df)\n",
    "\n",
    "# Train Values\n",
    "X_train = X[all_df[\"target\"].notna(),:]\n",
    "y_train = all_df.loc[all_df[\"target\"].notna(), [\"target\"]].values.ravel()\n",
    "\n",
    "# Test Values\n",
    "X_test = X[all_df[\"target\"].isna(), :]"
   ]
  },
  {
   "cell_type": "markdown",
   "id": "380f756e",
   "metadata": {
    "papermill": {
     "duration": 0.003587,
     "end_time": "2022-11-06T21:19:53.656705",
     "exception": false,
     "start_time": "2022-11-06T21:19:53.653118",
     "status": "completed"
    },
    "tags": []
   },
   "source": [
    "#### Train Model"
   ]
  },
  {
   "cell_type": "code",
   "execution_count": 5,
   "id": "6d7b6679",
   "metadata": {
    "execution": {
     "iopub.execute_input": "2022-11-06T21:19:53.666216Z",
     "iopub.status.busy": "2022-11-06T21:19:53.665800Z",
     "iopub.status.idle": "2022-11-06T21:19:54.651490Z",
     "shell.execute_reply": "2022-11-06T21:19:54.650254Z"
    },
    "papermill": {
     "duration": 0.994932,
     "end_time": "2022-11-06T21:19:54.655481",
     "exception": false,
     "start_time": "2022-11-06T21:19:53.660549",
     "status": "completed"
    },
    "tags": []
   },
   "outputs": [
    {
     "data": {
      "text/plain": [
       "0.9096282674372783"
      ]
     },
     "execution_count": 5,
     "metadata": {},
     "output_type": "execute_result"
    }
   ],
   "source": [
    "nb = MultinomialNB()\n",
    "nb.fit(X_train, y_train)\n",
    "nb.score(X_train, y_train)"
   ]
  },
  {
   "cell_type": "markdown",
   "id": "23071b07",
   "metadata": {
    "papermill": {
     "duration": 0.00896,
     "end_time": "2022-11-06T21:19:54.674016",
     "exception": false,
     "start_time": "2022-11-06T21:19:54.665056",
     "status": "completed"
    },
    "tags": []
   },
   "source": [
    "Generate Predictions\n",
    "\n",
    "The score on the test data was around 78%. This indicates that I am overfitting the training data."
   ]
  },
  {
   "cell_type": "code",
   "execution_count": 6,
   "id": "41bedd39",
   "metadata": {
    "execution": {
     "iopub.execute_input": "2022-11-06T21:19:54.695925Z",
     "iopub.status.busy": "2022-11-06T21:19:54.695146Z",
     "iopub.status.idle": "2022-11-06T21:19:54.882295Z",
     "shell.execute_reply": "2022-11-06T21:19:54.880626Z"
    },
    "papermill": {
     "duration": 0.204104,
     "end_time": "2022-11-06T21:19:54.887719",
     "exception": false,
     "start_time": "2022-11-06T21:19:54.683615",
     "status": "completed"
    },
    "tags": []
   },
   "outputs": [],
   "source": [
    "y_test_pred = nb.predict(X_test)\n",
    "\n",
    "preds_df = pd.DataFrame()\n",
    "preds_df[\"id\"] = test_df[\"id\"]\n",
    "preds_df[\"target\"] = y_test_pred.astype(\"int\")\n",
    "\n",
    "submission_path = \"/kaggle/working/submission.csv\"\n",
    "\n",
    "\n",
    "preds_df.to_csv(submission_path,\n",
    "                header=True, \n",
    "                index=False)\n",
    "              "
   ]
  },
  {
   "cell_type": "code",
   "execution_count": null,
   "id": "70c7bcf2",
   "metadata": {
    "papermill": {
     "duration": 0.008974,
     "end_time": "2022-11-06T21:19:54.906997",
     "exception": false,
     "start_time": "2022-11-06T21:19:54.898023",
     "status": "completed"
    },
    "tags": []
   },
   "outputs": [],
   "source": []
  }
 ],
 "metadata": {
  "kernelspec": {
   "display_name": "Python 3",
   "language": "python",
   "name": "python3"
  },
  "language_info": {
   "codemirror_mode": {
    "name": "ipython",
    "version": 3
   },
   "file_extension": ".py",
   "mimetype": "text/x-python",
   "name": "python",
   "nbconvert_exporter": "python",
   "pygments_lexer": "ipython3",
   "version": "3.7.12"
  },
  "papermill": {
   "default_parameters": {},
   "duration": 18.489401,
   "end_time": "2022-11-06T21:19:55.746450",
   "environment_variables": {},
   "exception": null,
   "input_path": "__notebook__.ipynb",
   "output_path": "__notebook__.ipynb",
   "parameters": {},
   "start_time": "2022-11-06T21:19:37.257049",
   "version": "2.3.4"
  }
 },
 "nbformat": 4,
 "nbformat_minor": 5
}

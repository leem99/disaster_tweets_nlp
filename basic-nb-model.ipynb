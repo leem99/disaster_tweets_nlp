{
 "cells": [
  {
   "cell_type": "markdown",
   "id": "ee1e3e1f",
   "metadata": {
    "_cell_guid": "b1076dfc-b9ad-4769-8c92-a6c4dae69d19",
    "_uuid": "8f2839f25d086af736a60e9eeb907d3b93b6e0e5",
    "papermill": {
     "duration": 0.00451,
     "end_time": "2022-11-06T20:00:46.451580",
     "exception": false,
     "start_time": "2022-11-06T20:00:46.447070",
     "status": "completed"
    },
    "tags": []
   },
   "source": [
    "#### [NLP Processing with Disaster Tweets](https://www.kaggle.com/competitions/nlp-getting-started/data): Basic Naive Bayes Model\n",
    "\n",
    "Using this [data exploration notebook](https://www.kaggle.com/mitchvanlee/basic-data-exploration/edit), I found that:\n",
    "\n",
    "* The keyword column is populated with a non-null value for most rows\n",
    "* Certain keywords are highly predictive of whether or not there is a true disaster\n",
    "* The text column is non-null for all rows\n",
    "* tweets are sort\n",
    "* tweets tend not to have many repeat words\n",
    "\n",
    "\n",
    "In this notebook, I am going to create a Naive Bayes Classifaction Model. As I develop more complicated models, this will provide a good benchmark for comparision."
   ]
  },
  {
   "cell_type": "markdown",
   "id": "a47c9499",
   "metadata": {
    "papermill": {
     "duration": 0.002483,
     "end_time": "2022-11-06T20:00:46.457141",
     "exception": false,
     "start_time": "2022-11-06T20:00:46.454658",
     "status": "completed"
    },
    "tags": []
   },
   "source": [
    "#### Import packages"
   ]
  },
  {
   "cell_type": "code",
   "execution_count": 1,
   "id": "1b88cc05",
   "metadata": {
    "execution": {
     "iopub.execute_input": "2022-11-06T20:00:46.465415Z",
     "iopub.status.busy": "2022-11-06T20:00:46.464439Z",
     "iopub.status.idle": "2022-11-06T20:00:47.332408Z",
     "shell.execute_reply": "2022-11-06T20:00:47.331492Z"
    },
    "papermill": {
     "duration": 0.876273,
     "end_time": "2022-11-06T20:00:47.336108",
     "exception": false,
     "start_time": "2022-11-06T20:00:46.459835",
     "status": "completed"
    },
    "tags": []
   },
   "outputs": [],
   "source": [
    "import numpy as np\n",
    "import pandas as pd\n",
    "\n",
    "from sklearn.preprocessing import OneHotEncoder\n",
    "from sklearn.naive_bayes import MultinomialNB\n",
    "from sklearn.feature_extraction.text import CountVectorizer"
   ]
  },
  {
   "cell_type": "markdown",
   "id": "4f6a0fc8",
   "metadata": {
    "papermill": {
     "duration": 0.002676,
     "end_time": "2022-11-06T20:00:47.341932",
     "exception": false,
     "start_time": "2022-11-06T20:00:47.339256",
     "status": "completed"
    },
    "tags": []
   },
   "source": [
    "#### Load Data"
   ]
  },
  {
   "cell_type": "code",
   "execution_count": 2,
   "id": "ea41c500",
   "metadata": {
    "execution": {
     "iopub.execute_input": "2022-11-06T20:00:47.349217Z",
     "iopub.status.busy": "2022-11-06T20:00:47.348803Z",
     "iopub.status.idle": "2022-11-06T20:00:47.447333Z",
     "shell.execute_reply": "2022-11-06T20:00:47.446199Z"
    },
    "papermill": {
     "duration": 0.105122,
     "end_time": "2022-11-06T20:00:47.449935",
     "exception": false,
     "start_time": "2022-11-06T20:00:47.344813",
     "status": "completed"
    },
    "tags": []
   },
   "outputs": [
    {
     "data": {
      "text/html": [
       "<div>\n",
       "<style scoped>\n",
       "    .dataframe tbody tr th:only-of-type {\n",
       "        vertical-align: middle;\n",
       "    }\n",
       "\n",
       "    .dataframe tbody tr th {\n",
       "        vertical-align: top;\n",
       "    }\n",
       "\n",
       "    .dataframe thead th {\n",
       "        text-align: right;\n",
       "    }\n",
       "</style>\n",
       "<table border=\"1\" class=\"dataframe\">\n",
       "  <thead>\n",
       "    <tr style=\"text-align: right;\">\n",
       "      <th></th>\n",
       "      <th>id</th>\n",
       "      <th>keyword</th>\n",
       "      <th>location</th>\n",
       "      <th>text</th>\n",
       "      <th>target</th>\n",
       "    </tr>\n",
       "  </thead>\n",
       "  <tbody>\n",
       "    <tr>\n",
       "      <th>31</th>\n",
       "      <td>48</td>\n",
       "      <td>ablaze</td>\n",
       "      <td>Birmingham</td>\n",
       "      <td>@bbcmtd Wholesale Markets ablaze http://t.co/l...</td>\n",
       "      <td>1</td>\n",
       "    </tr>\n",
       "    <tr>\n",
       "      <th>51</th>\n",
       "      <td>74</td>\n",
       "      <td>ablaze</td>\n",
       "      <td>India</td>\n",
       "      <td>Man wife get six years jail for setting ablaze...</td>\n",
       "      <td>1</td>\n",
       "    </tr>\n",
       "    <tr>\n",
       "      <th>52</th>\n",
       "      <td>76</td>\n",
       "      <td>ablaze</td>\n",
       "      <td>Barbados</td>\n",
       "      <td>SANTA CRUZ ÛÓ Head of the St Elizabeth Police...</td>\n",
       "      <td>0</td>\n",
       "    </tr>\n",
       "    <tr>\n",
       "      <th>53</th>\n",
       "      <td>77</td>\n",
       "      <td>ablaze</td>\n",
       "      <td>Anaheim</td>\n",
       "      <td>Police: Arsonist Deliberately Set Black Church...</td>\n",
       "      <td>1</td>\n",
       "    </tr>\n",
       "    <tr>\n",
       "      <th>54</th>\n",
       "      <td>78</td>\n",
       "      <td>ablaze</td>\n",
       "      <td>Abuja</td>\n",
       "      <td>Noches El-Bestia '@Alexis_Sanchez: happy to se...</td>\n",
       "      <td>0</td>\n",
       "    </tr>\n",
       "  </tbody>\n",
       "</table>\n",
       "</div>"
      ],
      "text/plain": [
       "    id keyword    location                                               text  \\\n",
       "31  48  ablaze  Birmingham  @bbcmtd Wholesale Markets ablaze http://t.co/l...   \n",
       "51  74  ablaze       India  Man wife get six years jail for setting ablaze...   \n",
       "52  76  ablaze    Barbados  SANTA CRUZ ÛÓ Head of the St Elizabeth Police...   \n",
       "53  77  ablaze     Anaheim  Police: Arsonist Deliberately Set Black Church...   \n",
       "54  78  ablaze       Abuja  Noches El-Bestia '@Alexis_Sanchez: happy to se...   \n",
       "\n",
       "    target  \n",
       "31       1  \n",
       "51       1  \n",
       "52       0  \n",
       "53       1  \n",
       "54       0  "
      ]
     },
     "execution_count": 2,
     "metadata": {},
     "output_type": "execute_result"
    }
   ],
   "source": [
    "train_df = pd.read_csv(\"/kaggle/input/nlp-getting-started/train.csv\")\n",
    "test_df = pd.read_csv(\"/kaggle/input/nlp-getting-started/test.csv\")\n",
    "\n",
    "train_df.sort_values(\"keyword\").head(n=5)"
   ]
  },
  {
   "cell_type": "markdown",
   "id": "85e886cb",
   "metadata": {
    "papermill": {
     "duration": 0.002756,
     "end_time": "2022-11-06T20:00:47.456012",
     "exception": false,
     "start_time": "2022-11-06T20:00:47.453256",
     "status": "completed"
    },
    "tags": []
   },
   "source": [
    "#### Helper Functions"
   ]
  },
  {
   "cell_type": "code",
   "execution_count": 3,
   "id": "cacf6de4",
   "metadata": {
    "execution": {
     "iopub.execute_input": "2022-11-06T20:00:47.464265Z",
     "iopub.status.busy": "2022-11-06T20:00:47.463381Z",
     "iopub.status.idle": "2022-11-06T20:00:47.470225Z",
     "shell.execute_reply": "2022-11-06T20:00:47.469168Z"
    },
    "papermill": {
     "duration": 0.013935,
     "end_time": "2022-11-06T20:00:47.472916",
     "exception": false,
     "start_time": "2022-11-06T20:00:47.458981",
     "status": "completed"
    },
    "tags": []
   },
   "outputs": [],
   "source": [
    "def prep_features(df):\n",
    "    \n",
    "    # vectorize \"text\"\n",
    "    count_vectorizer = CountVectorizer(max_df=0.25,\n",
    "                                       min_df=5,\n",
    "                                       stop_words=\"english\")\n",
    "    \n",
    "    text_features = count_vectorizer.fit_transform(df[\"text\"]).toarray()\n",
    "    \n",
    "    # one-hot-encode \"keyword\"\n",
    "    one_hot_encoder = OneHotEncoder()\n",
    "    one_hot_keyword = one_hot_encoder.fit_transform(df[[\"keyword\"]]).toarray()\n",
    "    \n",
    "    X = np.concatenate([text_features, one_hot_keyword], axis=1)\n",
    "    \n",
    "    return X"
   ]
  },
  {
   "cell_type": "code",
   "execution_count": 4,
   "id": "d0a7477d",
   "metadata": {
    "execution": {
     "iopub.execute_input": "2022-11-06T20:00:47.481351Z",
     "iopub.status.busy": "2022-11-06T20:00:47.480399Z",
     "iopub.status.idle": "2022-11-06T20:00:47.837652Z",
     "shell.execute_reply": "2022-11-06T20:00:47.836611Z"
    },
    "papermill": {
     "duration": 0.363607,
     "end_time": "2022-11-06T20:00:47.839829",
     "exception": false,
     "start_time": "2022-11-06T20:00:47.476222",
     "status": "completed"
    },
    "tags": []
   },
   "outputs": [
    {
     "data": {
      "text/plain": [
       "(7613, 2788)"
      ]
     },
     "execution_count": 4,
     "metadata": {},
     "output_type": "execute_result"
    }
   ],
   "source": [
    "prep_features(train_df).shape"
   ]
  },
  {
   "cell_type": "code",
   "execution_count": null,
   "id": "04283b87",
   "metadata": {
    "papermill": {
     "duration": 0.002949,
     "end_time": "2022-11-06T20:00:47.846267",
     "exception": false,
     "start_time": "2022-11-06T20:00:47.843318",
     "status": "completed"
    },
    "tags": []
   },
   "outputs": [],
   "source": []
  },
  {
   "cell_type": "code",
   "execution_count": null,
   "id": "fc060e72",
   "metadata": {
    "papermill": {
     "duration": 0.002866,
     "end_time": "2022-11-06T20:00:47.852332",
     "exception": false,
     "start_time": "2022-11-06T20:00:47.849466",
     "status": "completed"
    },
    "tags": []
   },
   "outputs": [],
   "source": []
  }
 ],
 "metadata": {
  "kernelspec": {
   "display_name": "Python 3",
   "language": "python",
   "name": "python3"
  },
  "language_info": {
   "codemirror_mode": {
    "name": "ipython",
    "version": 3
   },
   "file_extension": ".py",
   "mimetype": "text/x-python",
   "name": "python",
   "nbconvert_exporter": "python",
   "pygments_lexer": "ipython3",
   "version": "3.7.12"
  },
  "papermill": {
   "default_parameters": {},
   "duration": 10.357244,
   "end_time": "2022-11-06T20:00:48.577711",
   "environment_variables": {},
   "exception": null,
   "input_path": "__notebook__.ipynb",
   "output_path": "__notebook__.ipynb",
   "parameters": {},
   "start_time": "2022-11-06T20:00:38.220467",
   "version": "2.3.4"
  }
 },
 "nbformat": 4,
 "nbformat_minor": 5
}

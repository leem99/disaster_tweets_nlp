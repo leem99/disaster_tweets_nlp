{
 "cells": [
  {
   "cell_type": "markdown",
   "id": "fe4895a3",
   "metadata": {
    "_cell_guid": "b1076dfc-b9ad-4769-8c92-a6c4dae69d19",
    "_uuid": "8f2839f25d086af736a60e9eeb907d3b93b6e0e5",
    "papermill": {
     "duration": 0.004779,
     "end_time": "2022-11-06T21:06:06.891539",
     "exception": false,
     "start_time": "2022-11-06T21:06:06.886760",
     "status": "completed"
    },
    "tags": []
   },
   "source": [
    "#### [NLP Processing with Disaster Tweets](https://www.kaggle.com/competitions/nlp-getting-started/data): Basic Naive Bayes Model\n",
    "\n",
    "Using this [data exploration notebook](https://www.kaggle.com/mitchvanlee/basic-data-exploration/edit), I found that:\n",
    "\n",
    "* The keyword column is populated with a non-null value for most rows\n",
    "* Certain keywords are highly predictive of whether or not there is a true disaster\n",
    "* The text column is non-null for all rows\n",
    "* tweets are sort\n",
    "* tweets tend not to have many repeat words\n",
    "\n",
    "\n",
    "In this notebook, I am going to create a Naive Bayes Classifaction Model. As I develop more complicated models, this will provide a good benchmark for comparision."
   ]
  },
  {
   "cell_type": "markdown",
   "id": "b87e5c60",
   "metadata": {
    "papermill": {
     "duration": 0.003244,
     "end_time": "2022-11-06T21:06:06.898542",
     "exception": false,
     "start_time": "2022-11-06T21:06:06.895298",
     "status": "completed"
    },
    "tags": []
   },
   "source": [
    "#### Import packages"
   ]
  },
  {
   "cell_type": "code",
   "execution_count": 1,
   "id": "9199ef4c",
   "metadata": {
    "execution": {
     "iopub.execute_input": "2022-11-06T21:06:06.908168Z",
     "iopub.status.busy": "2022-11-06T21:06:06.907532Z",
     "iopub.status.idle": "2022-11-06T21:06:07.950336Z",
     "shell.execute_reply": "2022-11-06T21:06:07.949060Z"
    },
    "papermill": {
     "duration": 1.051489,
     "end_time": "2022-11-06T21:06:07.953473",
     "exception": false,
     "start_time": "2022-11-06T21:06:06.901984",
     "status": "completed"
    },
    "tags": []
   },
   "outputs": [],
   "source": [
    "import numpy as np\n",
    "import pandas as pd\n",
    "\n",
    "from sklearn.preprocessing import OneHotEncoder\n",
    "from sklearn.feature_extraction.text import CountVectorizer,TfidfVectorizer\n",
    "from sklearn.naive_bayes import MultinomialNB"
   ]
  },
  {
   "cell_type": "markdown",
   "id": "f3198398",
   "metadata": {
    "papermill": {
     "duration": 0.0034,
     "end_time": "2022-11-06T21:06:07.960783",
     "exception": false,
     "start_time": "2022-11-06T21:06:07.957383",
     "status": "completed"
    },
    "tags": []
   },
   "source": [
    "#### Load Data"
   ]
  },
  {
   "cell_type": "code",
   "execution_count": 2,
   "id": "ae6a5a23",
   "metadata": {
    "execution": {
     "iopub.execute_input": "2022-11-06T21:06:07.969706Z",
     "iopub.status.busy": "2022-11-06T21:06:07.969275Z",
     "iopub.status.idle": "2022-11-06T21:06:08.075404Z",
     "shell.execute_reply": "2022-11-06T21:06:08.074179Z"
    },
    "papermill": {
     "duration": 0.114449,
     "end_time": "2022-11-06T21:06:08.078814",
     "exception": false,
     "start_time": "2022-11-06T21:06:07.964365",
     "status": "completed"
    },
    "tags": []
   },
   "outputs": [
    {
     "data": {
      "text/html": [
       "<div>\n",
       "<style scoped>\n",
       "    .dataframe tbody tr th:only-of-type {\n",
       "        vertical-align: middle;\n",
       "    }\n",
       "\n",
       "    .dataframe tbody tr th {\n",
       "        vertical-align: top;\n",
       "    }\n",
       "\n",
       "    .dataframe thead th {\n",
       "        text-align: right;\n",
       "    }\n",
       "</style>\n",
       "<table border=\"1\" class=\"dataframe\">\n",
       "  <thead>\n",
       "    <tr style=\"text-align: right;\">\n",
       "      <th></th>\n",
       "      <th>id</th>\n",
       "      <th>keyword</th>\n",
       "      <th>location</th>\n",
       "      <th>text</th>\n",
       "      <th>target</th>\n",
       "    </tr>\n",
       "  </thead>\n",
       "  <tbody>\n",
       "    <tr>\n",
       "      <th>31</th>\n",
       "      <td>48</td>\n",
       "      <td>ablaze</td>\n",
       "      <td>Birmingham</td>\n",
       "      <td>@bbcmtd Wholesale Markets ablaze http://t.co/l...</td>\n",
       "      <td>1</td>\n",
       "    </tr>\n",
       "    <tr>\n",
       "      <th>51</th>\n",
       "      <td>74</td>\n",
       "      <td>ablaze</td>\n",
       "      <td>India</td>\n",
       "      <td>Man wife get six years jail for setting ablaze...</td>\n",
       "      <td>1</td>\n",
       "    </tr>\n",
       "    <tr>\n",
       "      <th>52</th>\n",
       "      <td>76</td>\n",
       "      <td>ablaze</td>\n",
       "      <td>Barbados</td>\n",
       "      <td>SANTA CRUZ ÛÓ Head of the St Elizabeth Police...</td>\n",
       "      <td>0</td>\n",
       "    </tr>\n",
       "    <tr>\n",
       "      <th>53</th>\n",
       "      <td>77</td>\n",
       "      <td>ablaze</td>\n",
       "      <td>Anaheim</td>\n",
       "      <td>Police: Arsonist Deliberately Set Black Church...</td>\n",
       "      <td>1</td>\n",
       "    </tr>\n",
       "    <tr>\n",
       "      <th>54</th>\n",
       "      <td>78</td>\n",
       "      <td>ablaze</td>\n",
       "      <td>Abuja</td>\n",
       "      <td>Noches El-Bestia '@Alexis_Sanchez: happy to se...</td>\n",
       "      <td>0</td>\n",
       "    </tr>\n",
       "  </tbody>\n",
       "</table>\n",
       "</div>"
      ],
      "text/plain": [
       "    id keyword    location                                               text  \\\n",
       "31  48  ablaze  Birmingham  @bbcmtd Wholesale Markets ablaze http://t.co/l...   \n",
       "51  74  ablaze       India  Man wife get six years jail for setting ablaze...   \n",
       "52  76  ablaze    Barbados  SANTA CRUZ ÛÓ Head of the St Elizabeth Police...   \n",
       "53  77  ablaze     Anaheim  Police: Arsonist Deliberately Set Black Church...   \n",
       "54  78  ablaze       Abuja  Noches El-Bestia '@Alexis_Sanchez: happy to se...   \n",
       "\n",
       "    target  \n",
       "31       1  \n",
       "51       1  \n",
       "52       0  \n",
       "53       1  \n",
       "54       0  "
      ]
     },
     "execution_count": 2,
     "metadata": {},
     "output_type": "execute_result"
    }
   ],
   "source": [
    "train_df = pd.read_csv(\"/kaggle/input/nlp-getting-started/train.csv\")\n",
    "test_df = pd.read_csv(\"/kaggle/input/nlp-getting-started/test.csv\")\n",
    "\n",
    "train_df.sort_values(\"keyword\").head(n=5)"
   ]
  },
  {
   "cell_type": "markdown",
   "id": "d701bda4",
   "metadata": {
    "papermill": {
     "duration": 0.00359,
     "end_time": "2022-11-06T21:06:08.086436",
     "exception": false,
     "start_time": "2022-11-06T21:06:08.082846",
     "status": "completed"
    },
    "tags": []
   },
   "source": [
    "#### Helper Functions"
   ]
  },
  {
   "cell_type": "code",
   "execution_count": 3,
   "id": "2ad298dd",
   "metadata": {
    "execution": {
     "iopub.execute_input": "2022-11-06T21:06:08.096354Z",
     "iopub.status.busy": "2022-11-06T21:06:08.095547Z",
     "iopub.status.idle": "2022-11-06T21:06:08.102456Z",
     "shell.execute_reply": "2022-11-06T21:06:08.101654Z"
    },
    "papermill": {
     "duration": 0.014633,
     "end_time": "2022-11-06T21:06:08.104808",
     "exception": false,
     "start_time": "2022-11-06T21:06:08.090175",
     "status": "completed"
    },
    "tags": []
   },
   "outputs": [],
   "source": [
    "def prep_features(df):\n",
    "    \n",
    "    # vectorize \"text\"\n",
    "    count_vectorizer = CountVectorizer(stop_words=\"english\")\n",
    "    \n",
    "    text_features = count_vectorizer.fit_transform(df[\"text\"]).toarray()\n",
    "    \n",
    "    # one-hot-encode \"keyword\"\n",
    "    df[\"keyword\"] = df[\"keyword\"].fillna(\"\")\n",
    "    \n",
    "    one_hot_encoder = OneHotEncoder()\n",
    "    one_hot_keyword = one_hot_encoder.fit_transform(df[[\"keyword\"]]).toarray()\n",
    "    \n",
    "    X = np.concatenate([text_features, one_hot_keyword], axis=1)\n",
    "    \n",
    "    return X"
   ]
  },
  {
   "cell_type": "markdown",
   "id": "ec29f830",
   "metadata": {
    "papermill": {
     "duration": 0.003525,
     "end_time": "2022-11-06T21:06:08.112210",
     "exception": false,
     "start_time": "2022-11-06T21:06:08.108685",
     "status": "completed"
    },
    "tags": []
   },
   "source": [
    "#### Preprocess Data"
   ]
  },
  {
   "cell_type": "code",
   "execution_count": 4,
   "id": "32b58b3b",
   "metadata": {
    "execution": {
     "iopub.execute_input": "2022-11-06T21:06:08.122021Z",
     "iopub.status.busy": "2022-11-06T21:06:08.121152Z",
     "iopub.status.idle": "2022-11-06T21:06:12.882572Z",
     "shell.execute_reply": "2022-11-06T21:06:12.881208Z"
    },
    "papermill": {
     "duration": 4.77013,
     "end_time": "2022-11-06T21:06:12.886073",
     "exception": false,
     "start_time": "2022-11-06T21:06:08.115943",
     "status": "completed"
    },
    "tags": []
   },
   "outputs": [],
   "source": [
    "all_df = pd.concat([train_df, test_df])\n",
    "\n",
    "X = prep_features(all_df)\n",
    "\n",
    "# Train Values\n",
    "X_train = X[all_df[\"target\"].notna(),:]\n",
    "y_train = all_df.loc[all_df[\"target\"].notna(), [\"target\"]].values.ravel()\n",
    "\n",
    "# Test Values\n",
    "X_test = X[all_df[\"target\"].isna(), :]"
   ]
  },
  {
   "cell_type": "markdown",
   "id": "db663062",
   "metadata": {
    "papermill": {
     "duration": 0.004015,
     "end_time": "2022-11-06T21:06:12.895075",
     "exception": false,
     "start_time": "2022-11-06T21:06:12.891060",
     "status": "completed"
    },
    "tags": []
   },
   "source": [
    "#### Train Model"
   ]
  },
  {
   "cell_type": "code",
   "execution_count": 5,
   "id": "e2454ec8",
   "metadata": {
    "execution": {
     "iopub.execute_input": "2022-11-06T21:06:12.906291Z",
     "iopub.status.busy": "2022-11-06T21:06:12.904890Z",
     "iopub.status.idle": "2022-11-06T21:06:13.980180Z",
     "shell.execute_reply": "2022-11-06T21:06:13.978692Z"
    },
    "papermill": {
     "duration": 1.085353,
     "end_time": "2022-11-06T21:06:13.984571",
     "exception": false,
     "start_time": "2022-11-06T21:06:12.899218",
     "status": "completed"
    },
    "tags": []
   },
   "outputs": [
    {
     "data": {
      "text/plain": [
       "0.9096282674372783"
      ]
     },
     "execution_count": 5,
     "metadata": {},
     "output_type": "execute_result"
    }
   ],
   "source": [
    "nb = MultinomialNB()\n",
    "nb.fit(X_train, y_train)\n",
    "nb.score(X_train, y_train)"
   ]
  },
  {
   "cell_type": "markdown",
   "id": "09f18d15",
   "metadata": {
    "papermill": {
     "duration": 0.009302,
     "end_time": "2022-11-06T21:06:14.003833",
     "exception": false,
     "start_time": "2022-11-06T21:06:13.994531",
     "status": "completed"
    },
    "tags": []
   },
   "source": [
    "Generate Predictions"
   ]
  },
  {
   "cell_type": "code",
   "execution_count": 6,
   "id": "835e0b14",
   "metadata": {
    "execution": {
     "iopub.execute_input": "2022-11-06T21:06:14.026379Z",
     "iopub.status.busy": "2022-11-06T21:06:14.025652Z",
     "iopub.status.idle": "2022-11-06T21:06:14.219785Z",
     "shell.execute_reply": "2022-11-06T21:06:14.218037Z"
    },
    "papermill": {
     "duration": 0.211461,
     "end_time": "2022-11-06T21:06:14.225215",
     "exception": false,
     "start_time": "2022-11-06T21:06:14.013754",
     "status": "completed"
    },
    "tags": []
   },
   "outputs": [],
   "source": [
    "y_test_pred = nb.predict(X_test)\n",
    "\n",
    "preds_df = pd.DataFrame()\n",
    "preds_df[\"id\"] = test_df[\"id\"]\n",
    "preds_df[\"target\"] = y_test_pred.astype(\"int\")\n",
    "\n",
    "submission_path = \"/kaggle/working/submission.csv\"\n",
    "\n",
    "\n",
    "preds_df.to_csv(submission_path,\n",
    "                header=True, \n",
    "                index=False)\n",
    "              "
   ]
  },
  {
   "cell_type": "code",
   "execution_count": null,
   "id": "678d6024",
   "metadata": {
    "papermill": {
     "duration": 0.009064,
     "end_time": "2022-11-06T21:06:14.244837",
     "exception": false,
     "start_time": "2022-11-06T21:06:14.235773",
     "status": "completed"
    },
    "tags": []
   },
   "outputs": [],
   "source": []
  }
 ],
 "metadata": {
  "kernelspec": {
   "display_name": "Python 3",
   "language": "python",
   "name": "python3"
  },
  "language_info": {
   "codemirror_mode": {
    "name": "ipython",
    "version": 3
   },
   "file_extension": ".py",
   "mimetype": "text/x-python",
   "name": "python",
   "nbconvert_exporter": "python",
   "pygments_lexer": "ipython3",
   "version": "3.7.12"
  },
  "papermill": {
   "default_parameters": {},
   "duration": 18.380018,
   "end_time": "2022-11-06T21:06:15.087745",
   "environment_variables": {},
   "exception": null,
   "input_path": "__notebook__.ipynb",
   "output_path": "__notebook__.ipynb",
   "parameters": {},
   "start_time": "2022-11-06T21:05:56.707727",
   "version": "2.3.4"
  }
 },
 "nbformat": 4,
 "nbformat_minor": 5
}

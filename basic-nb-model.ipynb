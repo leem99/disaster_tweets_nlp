{
 "cells": [
  {
   "cell_type": "markdown",
   "id": "82732f97",
   "metadata": {
    "_cell_guid": "b1076dfc-b9ad-4769-8c92-a6c4dae69d19",
    "_uuid": "8f2839f25d086af736a60e9eeb907d3b93b6e0e5",
    "papermill": {
     "duration": 0.004661,
     "end_time": "2022-11-06T20:54:45.139340",
     "exception": false,
     "start_time": "2022-11-06T20:54:45.134679",
     "status": "completed"
    },
    "tags": []
   },
   "source": [
    "#### [NLP Processing with Disaster Tweets](https://www.kaggle.com/competitions/nlp-getting-started/data): Basic Naive Bayes Model\n",
    "\n",
    "Using this [data exploration notebook](https://www.kaggle.com/mitchvanlee/basic-data-exploration/edit), I found that:\n",
    "\n",
    "* The keyword column is populated with a non-null value for most rows\n",
    "* Certain keywords are highly predictive of whether or not there is a true disaster\n",
    "* The text column is non-null for all rows\n",
    "* tweets are sort\n",
    "* tweets tend not to have many repeat words\n",
    "\n",
    "\n",
    "In this notebook, I am going to create a Naive Bayes Classifaction Model. As I develop more complicated models, this will provide a good benchmark for comparision."
   ]
  },
  {
   "cell_type": "markdown",
   "id": "1a834d66",
   "metadata": {
    "papermill": {
     "duration": 0.003051,
     "end_time": "2022-11-06T20:54:45.145928",
     "exception": false,
     "start_time": "2022-11-06T20:54:45.142877",
     "status": "completed"
    },
    "tags": []
   },
   "source": [
    "#### Import packages"
   ]
  },
  {
   "cell_type": "code",
   "execution_count": 1,
   "id": "f3270411",
   "metadata": {
    "execution": {
     "iopub.execute_input": "2022-11-06T20:54:45.154550Z",
     "iopub.status.busy": "2022-11-06T20:54:45.154103Z",
     "iopub.status.idle": "2022-11-06T20:54:46.167517Z",
     "shell.execute_reply": "2022-11-06T20:54:46.166230Z"
    },
    "papermill": {
     "duration": 1.022183,
     "end_time": "2022-11-06T20:54:46.171412",
     "exception": false,
     "start_time": "2022-11-06T20:54:45.149229",
     "status": "completed"
    },
    "tags": []
   },
   "outputs": [],
   "source": [
    "import numpy as np\n",
    "import pandas as pd\n",
    "\n",
    "from sklearn.preprocessing import OneHotEncoder\n",
    "from sklearn.feature_extraction.text import CountVectorizer,TfidfVectorizer\n",
    "from sklearn.naive_bayes import MultinomialNB"
   ]
  },
  {
   "cell_type": "markdown",
   "id": "41f75c19",
   "metadata": {
    "papermill": {
     "duration": 0.004731,
     "end_time": "2022-11-06T20:54:46.181596",
     "exception": false,
     "start_time": "2022-11-06T20:54:46.176865",
     "status": "completed"
    },
    "tags": []
   },
   "source": [
    "#### Load Data"
   ]
  },
  {
   "cell_type": "code",
   "execution_count": 2,
   "id": "569c26bb",
   "metadata": {
    "execution": {
     "iopub.execute_input": "2022-11-06T20:54:46.193806Z",
     "iopub.status.busy": "2022-11-06T20:54:46.193346Z",
     "iopub.status.idle": "2022-11-06T20:54:46.290648Z",
     "shell.execute_reply": "2022-11-06T20:54:46.288617Z"
    },
    "papermill": {
     "duration": 0.107711,
     "end_time": "2022-11-06T20:54:46.294316",
     "exception": false,
     "start_time": "2022-11-06T20:54:46.186605",
     "status": "completed"
    },
    "tags": []
   },
   "outputs": [
    {
     "data": {
      "text/html": [
       "<div>\n",
       "<style scoped>\n",
       "    .dataframe tbody tr th:only-of-type {\n",
       "        vertical-align: middle;\n",
       "    }\n",
       "\n",
       "    .dataframe tbody tr th {\n",
       "        vertical-align: top;\n",
       "    }\n",
       "\n",
       "    .dataframe thead th {\n",
       "        text-align: right;\n",
       "    }\n",
       "</style>\n",
       "<table border=\"1\" class=\"dataframe\">\n",
       "  <thead>\n",
       "    <tr style=\"text-align: right;\">\n",
       "      <th></th>\n",
       "      <th>id</th>\n",
       "      <th>keyword</th>\n",
       "      <th>location</th>\n",
       "      <th>text</th>\n",
       "      <th>target</th>\n",
       "    </tr>\n",
       "  </thead>\n",
       "  <tbody>\n",
       "    <tr>\n",
       "      <th>31</th>\n",
       "      <td>48</td>\n",
       "      <td>ablaze</td>\n",
       "      <td>Birmingham</td>\n",
       "      <td>@bbcmtd Wholesale Markets ablaze http://t.co/l...</td>\n",
       "      <td>1</td>\n",
       "    </tr>\n",
       "    <tr>\n",
       "      <th>51</th>\n",
       "      <td>74</td>\n",
       "      <td>ablaze</td>\n",
       "      <td>India</td>\n",
       "      <td>Man wife get six years jail for setting ablaze...</td>\n",
       "      <td>1</td>\n",
       "    </tr>\n",
       "    <tr>\n",
       "      <th>52</th>\n",
       "      <td>76</td>\n",
       "      <td>ablaze</td>\n",
       "      <td>Barbados</td>\n",
       "      <td>SANTA CRUZ ÛÓ Head of the St Elizabeth Police...</td>\n",
       "      <td>0</td>\n",
       "    </tr>\n",
       "    <tr>\n",
       "      <th>53</th>\n",
       "      <td>77</td>\n",
       "      <td>ablaze</td>\n",
       "      <td>Anaheim</td>\n",
       "      <td>Police: Arsonist Deliberately Set Black Church...</td>\n",
       "      <td>1</td>\n",
       "    </tr>\n",
       "    <tr>\n",
       "      <th>54</th>\n",
       "      <td>78</td>\n",
       "      <td>ablaze</td>\n",
       "      <td>Abuja</td>\n",
       "      <td>Noches El-Bestia '@Alexis_Sanchez: happy to se...</td>\n",
       "      <td>0</td>\n",
       "    </tr>\n",
       "  </tbody>\n",
       "</table>\n",
       "</div>"
      ],
      "text/plain": [
       "    id keyword    location                                               text  \\\n",
       "31  48  ablaze  Birmingham  @bbcmtd Wholesale Markets ablaze http://t.co/l...   \n",
       "51  74  ablaze       India  Man wife get six years jail for setting ablaze...   \n",
       "52  76  ablaze    Barbados  SANTA CRUZ ÛÓ Head of the St Elizabeth Police...   \n",
       "53  77  ablaze     Anaheim  Police: Arsonist Deliberately Set Black Church...   \n",
       "54  78  ablaze       Abuja  Noches El-Bestia '@Alexis_Sanchez: happy to se...   \n",
       "\n",
       "    target  \n",
       "31       1  \n",
       "51       1  \n",
       "52       0  \n",
       "53       1  \n",
       "54       0  "
      ]
     },
     "execution_count": 2,
     "metadata": {},
     "output_type": "execute_result"
    }
   ],
   "source": [
    "train_df = pd.read_csv(\"/kaggle/input/nlp-getting-started/train.csv\")\n",
    "test_df = pd.read_csv(\"/kaggle/input/nlp-getting-started/test.csv\")\n",
    "\n",
    "train_df.sort_values(\"keyword\").head(n=5)"
   ]
  },
  {
   "cell_type": "markdown",
   "id": "7303d96a",
   "metadata": {
    "papermill": {
     "duration": 0.005095,
     "end_time": "2022-11-06T20:54:46.305067",
     "exception": false,
     "start_time": "2022-11-06T20:54:46.299972",
     "status": "completed"
    },
    "tags": []
   },
   "source": [
    "#### Helper Functions"
   ]
  },
  {
   "cell_type": "code",
   "execution_count": 3,
   "id": "25f5c637",
   "metadata": {
    "execution": {
     "iopub.execute_input": "2022-11-06T20:54:46.317548Z",
     "iopub.status.busy": "2022-11-06T20:54:46.316644Z",
     "iopub.status.idle": "2022-11-06T20:54:46.324986Z",
     "shell.execute_reply": "2022-11-06T20:54:46.323844Z"
    },
    "papermill": {
     "duration": 0.017104,
     "end_time": "2022-11-06T20:54:46.327561",
     "exception": false,
     "start_time": "2022-11-06T20:54:46.310457",
     "status": "completed"
    },
    "tags": []
   },
   "outputs": [],
   "source": [
    "def prep_features(df):\n",
    "    \n",
    "    # vectorize \"text\"\n",
    "    count_vectorizer = CountVectorizer(stop_words=\"english\")\n",
    "    \n",
    "    text_features = count_vectorizer.fit_transform(df[\"text\"]).toarray()\n",
    "    \n",
    "    # one-hot-encode \"keyword\"\n",
    "    df[\"keyword\"] = df[\"keyword\"].fillna(\"\")\n",
    "    \n",
    "    one_hot_encoder = OneHotEncoder()\n",
    "    one_hot_keyword = one_hot_encoder.fit_transform(df[[\"keyword\"]]).toarray()\n",
    "    \n",
    "    X = np.concatenate([text_features, one_hot_keyword], axis=1)\n",
    "    \n",
    "    return X"
   ]
  },
  {
   "cell_type": "markdown",
   "id": "721cfa92",
   "metadata": {
    "papermill": {
     "duration": 0.003676,
     "end_time": "2022-11-06T20:54:46.335578",
     "exception": false,
     "start_time": "2022-11-06T20:54:46.331902",
     "status": "completed"
    },
    "tags": []
   },
   "source": [
    "#### Preprocess Data"
   ]
  },
  {
   "cell_type": "code",
   "execution_count": 4,
   "id": "cff39375",
   "metadata": {
    "execution": {
     "iopub.execute_input": "2022-11-06T20:54:46.346549Z",
     "iopub.status.busy": "2022-11-06T20:54:46.346014Z",
     "iopub.status.idle": "2022-11-06T20:54:49.801272Z",
     "shell.execute_reply": "2022-11-06T20:54:49.800164Z"
    },
    "papermill": {
     "duration": 3.464488,
     "end_time": "2022-11-06T20:54:49.804002",
     "exception": false,
     "start_time": "2022-11-06T20:54:46.339514",
     "status": "completed"
    },
    "tags": []
   },
   "outputs": [],
   "source": [
    "all_df = pd.concat([train_df, test_df])\n",
    "\n",
    "X = prep_features(all_df)\n",
    "\n",
    "# Train Values\n",
    "X_train = X[all_df[\"target\"].notna(),:]\n",
    "y_train = all_df.loc[all_df[\"target\"].notna(), [\"target\"]].values.ravel()\n",
    "\n",
    "# Test Values\n",
    "X_test = X[all_df[\"target\"].isna(), :]"
   ]
  },
  {
   "cell_type": "markdown",
   "id": "08c686ba",
   "metadata": {
    "papermill": {
     "duration": 0.003474,
     "end_time": "2022-11-06T20:54:49.811362",
     "exception": false,
     "start_time": "2022-11-06T20:54:49.807888",
     "status": "completed"
    },
    "tags": []
   },
   "source": [
    "#### Train Model"
   ]
  },
  {
   "cell_type": "code",
   "execution_count": 5,
   "id": "a7ea27a9",
   "metadata": {
    "execution": {
     "iopub.execute_input": "2022-11-06T20:54:49.820481Z",
     "iopub.status.busy": "2022-11-06T20:54:49.820083Z",
     "iopub.status.idle": "2022-11-06T20:54:50.778012Z",
     "shell.execute_reply": "2022-11-06T20:54:50.776730Z"
    },
    "papermill": {
     "duration": 0.966676,
     "end_time": "2022-11-06T20:54:50.781747",
     "exception": false,
     "start_time": "2022-11-06T20:54:49.815071",
     "status": "completed"
    },
    "tags": []
   },
   "outputs": [
    {
     "data": {
      "text/plain": [
       "0.9096282674372783"
      ]
     },
     "execution_count": 5,
     "metadata": {},
     "output_type": "execute_result"
    }
   ],
   "source": [
    "nb = MultinomialNB()\n",
    "nb.fit(X_train, y_train)\n",
    "nb.score(X_train, y_train)"
   ]
  },
  {
   "cell_type": "markdown",
   "id": "5ca66f93",
   "metadata": {
    "papermill": {
     "duration": 0.006455,
     "end_time": "2022-11-06T20:54:50.795084",
     "exception": false,
     "start_time": "2022-11-06T20:54:50.788629",
     "status": "completed"
    },
    "tags": []
   },
   "source": [
    "Generate Predictions"
   ]
  },
  {
   "cell_type": "code",
   "execution_count": 6,
   "id": "148648af",
   "metadata": {
    "execution": {
     "iopub.execute_input": "2022-11-06T20:54:50.808999Z",
     "iopub.status.busy": "2022-11-06T20:54:50.808437Z",
     "iopub.status.idle": "2022-11-06T20:54:50.985369Z",
     "shell.execute_reply": "2022-11-06T20:54:50.984026Z"
    },
    "papermill": {
     "duration": 0.18802,
     "end_time": "2022-11-06T20:54:50.989086",
     "exception": false,
     "start_time": "2022-11-06T20:54:50.801066",
     "status": "completed"
    },
    "tags": []
   },
   "outputs": [],
   "source": [
    "y_test_pred = nb.predict(X_test)\n",
    "\n",
    "preds_df = pd.DataFrame()\n",
    "preds_df[\"id\"] = test_df[\"id\"]\n",
    "preds_df[\"target\"] = y_test_pred\n",
    "\n",
    "submission_path = \"/kaggle/working/submission.csv\"\n",
    "preds_df.to_csv(submission_path,\n",
    "                header=True, \n",
    "                index=False)"
   ]
  }
 ],
 "metadata": {
  "kernelspec": {
   "display_name": "Python 3",
   "language": "python",
   "name": "python3"
  },
  "language_info": {
   "codemirror_mode": {
    "name": "ipython",
    "version": 3
   },
   "file_extension": ".py",
   "mimetype": "text/x-python",
   "name": "python",
   "nbconvert_exporter": "python",
   "pygments_lexer": "ipython3",
   "version": "3.7.12"
  },
  "papermill": {
   "default_parameters": {},
   "duration": 14.984294,
   "end_time": "2022-11-06T20:54:51.725127",
   "environment_variables": {},
   "exception": null,
   "input_path": "__notebook__.ipynb",
   "output_path": "__notebook__.ipynb",
   "parameters": {},
   "start_time": "2022-11-06T20:54:36.740833",
   "version": "2.3.4"
  }
 },
 "nbformat": 4,
 "nbformat_minor": 5
}

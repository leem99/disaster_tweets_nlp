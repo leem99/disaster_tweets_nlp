{
 "cells": [
  {
   "cell_type": "markdown",
   "id": "0b056670",
   "metadata": {
    "execution": {
     "iopub.execute_input": "2022-11-06T16:12:28.729050Z",
     "iopub.status.busy": "2022-11-06T16:12:28.728380Z",
     "iopub.status.idle": "2022-11-06T16:12:28.760395Z",
     "shell.execute_reply": "2022-11-06T16:12:28.758805Z",
     "shell.execute_reply.started": "2022-11-06T16:12:28.728924Z"
    },
    "papermill": {
     "duration": 0.003638,
     "end_time": "2022-11-06T16:45:40.032352",
     "exception": false,
     "start_time": "2022-11-06T16:45:40.028714",
     "status": "completed"
    },
    "tags": []
   },
   "source": [
    "#### [NLP Processing with Disaster Tweets](https://www.kaggle.com/competitions/nlp-getting-started/data)"
   ]
  },
  {
   "cell_type": "code",
   "execution_count": 1,
   "id": "26f47e09",
   "metadata": {
    "_cell_guid": "b1076dfc-b9ad-4769-8c92-a6c4dae69d19",
    "_uuid": "8f2839f25d086af736a60e9eeb907d3b93b6e0e5",
    "execution": {
     "iopub.execute_input": "2022-11-06T16:45:40.041277Z",
     "iopub.status.busy": "2022-11-06T16:45:40.039858Z",
     "iopub.status.idle": "2022-11-06T16:45:40.052467Z",
     "shell.execute_reply": "2022-11-06T16:45:40.051117Z"
    },
    "papermill": {
     "duration": 0.019408,
     "end_time": "2022-11-06T16:45:40.054812",
     "exception": false,
     "start_time": "2022-11-06T16:45:40.035404",
     "status": "completed"
    },
    "tags": []
   },
   "outputs": [],
   "source": [
    "import pandas as pd\n"
   ]
  },
  {
   "cell_type": "markdown",
   "id": "c253e9bc",
   "metadata": {
    "papermill": {
     "duration": 0.002592,
     "end_time": "2022-11-06T16:45:40.060463",
     "exception": false,
     "start_time": "2022-11-06T16:45:40.057871",
     "status": "completed"
    },
    "tags": []
   },
   "source": [
    "Read in Data"
   ]
  },
  {
   "cell_type": "code",
   "execution_count": 2,
   "id": "b49cdf71",
   "metadata": {
    "execution": {
     "iopub.execute_input": "2022-11-06T16:45:40.067857Z",
     "iopub.status.busy": "2022-11-06T16:45:40.067497Z",
     "iopub.status.idle": "2022-11-06T16:45:40.135951Z",
     "shell.execute_reply": "2022-11-06T16:45:40.134440Z"
    },
    "papermill": {
     "duration": 0.075456,
     "end_time": "2022-11-06T16:45:40.138748",
     "exception": false,
     "start_time": "2022-11-06T16:45:40.063292",
     "status": "completed"
    },
    "tags": []
   },
   "outputs": [
    {
     "data": {
      "text/html": [
       "<div>\n",
       "<style scoped>\n",
       "    .dataframe tbody tr th:only-of-type {\n",
       "        vertical-align: middle;\n",
       "    }\n",
       "\n",
       "    .dataframe tbody tr th {\n",
       "        vertical-align: top;\n",
       "    }\n",
       "\n",
       "    .dataframe thead th {\n",
       "        text-align: right;\n",
       "    }\n",
       "</style>\n",
       "<table border=\"1\" class=\"dataframe\">\n",
       "  <thead>\n",
       "    <tr style=\"text-align: right;\">\n",
       "      <th></th>\n",
       "      <th>id</th>\n",
       "      <th>keyword</th>\n",
       "      <th>location</th>\n",
       "      <th>text</th>\n",
       "      <th>target</th>\n",
       "    </tr>\n",
       "  </thead>\n",
       "  <tbody>\n",
       "    <tr>\n",
       "      <th>0</th>\n",
       "      <td>1</td>\n",
       "      <td>NaN</td>\n",
       "      <td>NaN</td>\n",
       "      <td>Our Deeds are the Reason of this #earthquake M...</td>\n",
       "      <td>1</td>\n",
       "    </tr>\n",
       "    <tr>\n",
       "      <th>1</th>\n",
       "      <td>4</td>\n",
       "      <td>NaN</td>\n",
       "      <td>NaN</td>\n",
       "      <td>Forest fire near La Ronge Sask. Canada</td>\n",
       "      <td>1</td>\n",
       "    </tr>\n",
       "    <tr>\n",
       "      <th>2</th>\n",
       "      <td>5</td>\n",
       "      <td>NaN</td>\n",
       "      <td>NaN</td>\n",
       "      <td>All residents asked to 'shelter in place' are ...</td>\n",
       "      <td>1</td>\n",
       "    </tr>\n",
       "    <tr>\n",
       "      <th>3</th>\n",
       "      <td>6</td>\n",
       "      <td>NaN</td>\n",
       "      <td>NaN</td>\n",
       "      <td>13,000 people receive #wildfires evacuation or...</td>\n",
       "      <td>1</td>\n",
       "    </tr>\n",
       "    <tr>\n",
       "      <th>4</th>\n",
       "      <td>7</td>\n",
       "      <td>NaN</td>\n",
       "      <td>NaN</td>\n",
       "      <td>Just got sent this photo from Ruby #Alaska as ...</td>\n",
       "      <td>1</td>\n",
       "    </tr>\n",
       "  </tbody>\n",
       "</table>\n",
       "</div>"
      ],
      "text/plain": [
       "   id keyword location                                               text  \\\n",
       "0   1     NaN      NaN  Our Deeds are the Reason of this #earthquake M...   \n",
       "1   4     NaN      NaN             Forest fire near La Ronge Sask. Canada   \n",
       "2   5     NaN      NaN  All residents asked to 'shelter in place' are ...   \n",
       "3   6     NaN      NaN  13,000 people receive #wildfires evacuation or...   \n",
       "4   7     NaN      NaN  Just got sent this photo from Ruby #Alaska as ...   \n",
       "\n",
       "   target  \n",
       "0       1  \n",
       "1       1  \n",
       "2       1  \n",
       "3       1  \n",
       "4       1  "
      ]
     },
     "execution_count": 2,
     "metadata": {},
     "output_type": "execute_result"
    }
   ],
   "source": [
    "train_df = pd.read_csv(\"/kaggle/input/nlp-getting-started/train.csv\")\n",
    "train_df.head()"
   ]
  },
  {
   "cell_type": "markdown",
   "id": "f57ef1fc",
   "metadata": {
    "papermill": {
     "duration": 0.002809,
     "end_time": "2022-11-06T16:45:40.144831",
     "exception": false,
     "start_time": "2022-11-06T16:45:40.142022",
     "status": "completed"
    },
    "tags": []
   },
   "source": [
    "## Basic Exploration"
   ]
  },
  {
   "cell_type": "code",
   "execution_count": 3,
   "id": "cf9b6881",
   "metadata": {
    "execution": {
     "iopub.execute_input": "2022-11-06T16:45:40.152724Z",
     "iopub.status.busy": "2022-11-06T16:45:40.152164Z",
     "iopub.status.idle": "2022-11-06T16:45:40.169083Z",
     "shell.execute_reply": "2022-11-06T16:45:40.167009Z"
    },
    "papermill": {
     "duration": 0.02379,
     "end_time": "2022-11-06T16:45:40.171645",
     "exception": false,
     "start_time": "2022-11-06T16:45:40.147855",
     "status": "completed"
    },
    "tags": []
   },
   "outputs": [
    {
     "name": "stdout",
     "output_type": "stream",
     "text": [
      "row count: id          7613\n",
      "keyword     7552\n",
      "location    5080\n",
      "text        7613\n",
      "target      7613\n",
      "dtype: int64\n",
      "\n",
      "True positive rate\n",
      "0.5703402075397347\n"
     ]
    }
   ],
   "source": [
    "# the vast majority of rows have a non-null keyword\n",
    "# roughly 2/3rds of records have location\n",
    "data_count = train_df.count()\n",
    "print(\"row count: {}\".format(data_count))\n",
    "\n",
    "print(\"\\nTrue positive rate\")\n",
    "print(1-train_df[\"target\"].mean())"
   ]
  },
  {
   "cell_type": "markdown",
   "id": "88d5b9bc",
   "metadata": {
    "papermill": {
     "duration": 0.002693,
     "end_time": "2022-11-06T16:45:40.177702",
     "exception": false,
     "start_time": "2022-11-06T16:45:40.175009",
     "status": "completed"
    },
    "tags": []
   },
   "source": [
    "#### Keywords\n",
    "Based on the table below, it looks like certain keywords are much more strongly correlated to TP than others."
   ]
  },
  {
   "cell_type": "code",
   "execution_count": 4,
   "id": "29b42f36",
   "metadata": {
    "execution": {
     "iopub.execute_input": "2022-11-06T16:45:40.185159Z",
     "iopub.status.busy": "2022-11-06T16:45:40.184774Z",
     "iopub.status.idle": "2022-11-06T16:45:40.226949Z",
     "shell.execute_reply": "2022-11-06T16:45:40.226103Z"
    },
    "papermill": {
     "duration": 0.049421,
     "end_time": "2022-11-06T16:45:40.229941",
     "exception": false,
     "start_time": "2022-11-06T16:45:40.180520",
     "status": "completed"
    },
    "tags": []
   },
   "outputs": [
    {
     "data": {
      "text/html": [
       "<div>\n",
       "<style scoped>\n",
       "    .dataframe tbody tr th:only-of-type {\n",
       "        vertical-align: middle;\n",
       "    }\n",
       "\n",
       "    .dataframe tbody tr th {\n",
       "        vertical-align: top;\n",
       "    }\n",
       "\n",
       "    .dataframe thead th {\n",
       "        text-align: right;\n",
       "    }\n",
       "</style>\n",
       "<table border=\"1\" class=\"dataframe\">\n",
       "  <thead>\n",
       "    <tr style=\"text-align: right;\">\n",
       "      <th></th>\n",
       "      <th>count</th>\n",
       "      <th>mean</th>\n",
       "    </tr>\n",
       "    <tr>\n",
       "      <th>keyword</th>\n",
       "      <th></th>\n",
       "      <th></th>\n",
       "    </tr>\n",
       "  </thead>\n",
       "  <tbody>\n",
       "    <tr>\n",
       "      <th>wreckage</th>\n",
       "      <td>39</td>\n",
       "      <td>1.000000</td>\n",
       "    </tr>\n",
       "    <tr>\n",
       "      <th>debris</th>\n",
       "      <td>37</td>\n",
       "      <td>1.000000</td>\n",
       "    </tr>\n",
       "    <tr>\n",
       "      <th>derailment</th>\n",
       "      <td>39</td>\n",
       "      <td>1.000000</td>\n",
       "    </tr>\n",
       "    <tr>\n",
       "      <th>outbreak</th>\n",
       "      <td>40</td>\n",
       "      <td>0.975000</td>\n",
       "    </tr>\n",
       "    <tr>\n",
       "      <th>oil%20spill</th>\n",
       "      <td>38</td>\n",
       "      <td>0.973684</td>\n",
       "    </tr>\n",
       "    <tr>\n",
       "      <th>...</th>\n",
       "      <td>...</td>\n",
       "      <td>...</td>\n",
       "    </tr>\n",
       "    <tr>\n",
       "      <th>body%20bag</th>\n",
       "      <td>33</td>\n",
       "      <td>0.030303</td>\n",
       "    </tr>\n",
       "    <tr>\n",
       "      <th>blazing</th>\n",
       "      <td>34</td>\n",
       "      <td>0.029412</td>\n",
       "    </tr>\n",
       "    <tr>\n",
       "      <th>ruin</th>\n",
       "      <td>37</td>\n",
       "      <td>0.027027</td>\n",
       "    </tr>\n",
       "    <tr>\n",
       "      <th>body%20bags</th>\n",
       "      <td>41</td>\n",
       "      <td>0.024390</td>\n",
       "    </tr>\n",
       "    <tr>\n",
       "      <th>aftershock</th>\n",
       "      <td>34</td>\n",
       "      <td>0.000000</td>\n",
       "    </tr>\n",
       "  </tbody>\n",
       "</table>\n",
       "<p>222 rows × 2 columns</p>\n",
       "</div>"
      ],
      "text/plain": [
       "             count      mean\n",
       "keyword                     \n",
       "wreckage        39  1.000000\n",
       "debris          37  1.000000\n",
       "derailment      39  1.000000\n",
       "outbreak        40  0.975000\n",
       "oil%20spill     38  0.973684\n",
       "...            ...       ...\n",
       "body%20bag      33  0.030303\n",
       "blazing         34  0.029412\n",
       "ruin            37  0.027027\n",
       "body%20bags     41  0.024390\n",
       "aftershock      34  0.000000\n",
       "\n",
       "[222 rows x 2 columns]"
      ]
     },
     "execution_count": 4,
     "metadata": {},
     "output_type": "execute_result"
    }
   ],
   "source": [
    "tp_by_keyword_df = (train_df\n",
    "                    .fillna(value={\"keyword\": \"\"})\n",
    "                    .groupby(by=\"keyword\")\n",
    "                    .agg([\"count\", \"mean\"])[\"target\"]\n",
    "                    .sort_values(\"mean\", ascending=False))\n",
    "tp_by_keyword_df"
   ]
  },
  {
   "cell_type": "markdown",
   "id": "f2500de1",
   "metadata": {
    "papermill": {
     "duration": 0.00314,
     "end_time": "2022-11-06T16:45:40.237565",
     "exception": false,
     "start_time": "2022-11-06T16:45:40.234425",
     "status": "completed"
    },
    "tags": []
   },
   "source": [
    "#### Location\n",
    "\n",
    "This field is much more sparse than \"keyword\". To reduce sparcity, we could use a model to place individual cities within a larger geographic area."
   ]
  },
  {
   "cell_type": "code",
   "execution_count": 5,
   "id": "111c1202",
   "metadata": {
    "execution": {
     "iopub.execute_input": "2022-11-06T16:45:40.247215Z",
     "iopub.status.busy": "2022-11-06T16:45:40.245795Z",
     "iopub.status.idle": "2022-11-06T16:45:40.273227Z",
     "shell.execute_reply": "2022-11-06T16:45:40.272283Z"
    },
    "papermill": {
     "duration": 0.033917,
     "end_time": "2022-11-06T16:45:40.275183",
     "exception": false,
     "start_time": "2022-11-06T16:45:40.241266",
     "status": "completed"
    },
    "tags": []
   },
   "outputs": [
    {
     "data": {
      "text/html": [
       "<div>\n",
       "<style scoped>\n",
       "    .dataframe tbody tr th:only-of-type {\n",
       "        vertical-align: middle;\n",
       "    }\n",
       "\n",
       "    .dataframe tbody tr th {\n",
       "        vertical-align: top;\n",
       "    }\n",
       "\n",
       "    .dataframe thead th {\n",
       "        text-align: right;\n",
       "    }\n",
       "</style>\n",
       "<table border=\"1\" class=\"dataframe\">\n",
       "  <thead>\n",
       "    <tr style=\"text-align: right;\">\n",
       "      <th></th>\n",
       "      <th>count</th>\n",
       "      <th>mean</th>\n",
       "    </tr>\n",
       "    <tr>\n",
       "      <th>location</th>\n",
       "      <th></th>\n",
       "      <th></th>\n",
       "    </tr>\n",
       "  </thead>\n",
       "  <tbody>\n",
       "    <tr>\n",
       "      <th>USA</th>\n",
       "      <td>104</td>\n",
       "      <td>0.644231</td>\n",
       "    </tr>\n",
       "    <tr>\n",
       "      <th>New York</th>\n",
       "      <td>71</td>\n",
       "      <td>0.225352</td>\n",
       "    </tr>\n",
       "    <tr>\n",
       "      <th>United States</th>\n",
       "      <td>50</td>\n",
       "      <td>0.540000</td>\n",
       "    </tr>\n",
       "    <tr>\n",
       "      <th>London</th>\n",
       "      <td>45</td>\n",
       "      <td>0.355556</td>\n",
       "    </tr>\n",
       "    <tr>\n",
       "      <th>Canada</th>\n",
       "      <td>29</td>\n",
       "      <td>0.448276</td>\n",
       "    </tr>\n",
       "    <tr>\n",
       "      <th>...</th>\n",
       "      <td>...</td>\n",
       "      <td>...</td>\n",
       "    </tr>\n",
       "    <tr>\n",
       "      <th>Hueco Mundo</th>\n",
       "      <td>1</td>\n",
       "      <td>0.000000</td>\n",
       "    </tr>\n",
       "    <tr>\n",
       "      <th>Hughes, AR</th>\n",
       "      <td>1</td>\n",
       "      <td>1.000000</td>\n",
       "    </tr>\n",
       "    <tr>\n",
       "      <th>Huntington, WV</th>\n",
       "      <td>1</td>\n",
       "      <td>0.000000</td>\n",
       "    </tr>\n",
       "    <tr>\n",
       "      <th>Huntley, IL</th>\n",
       "      <td>1</td>\n",
       "      <td>0.000000</td>\n",
       "    </tr>\n",
       "    <tr>\n",
       "      <th>åø\\_(?)_/åø</th>\n",
       "      <td>1</td>\n",
       "      <td>1.000000</td>\n",
       "    </tr>\n",
       "  </tbody>\n",
       "</table>\n",
       "<p>3341 rows × 2 columns</p>\n",
       "</div>"
      ],
      "text/plain": [
       "                count      mean\n",
       "location                       \n",
       "USA               104  0.644231\n",
       "New York           71  0.225352\n",
       "United States      50  0.540000\n",
       "London             45  0.355556\n",
       "Canada             29  0.448276\n",
       "...               ...       ...\n",
       "Hueco Mundo         1  0.000000\n",
       "Hughes, AR          1  1.000000\n",
       "Huntington, WV      1  0.000000\n",
       "Huntley, IL         1  0.000000\n",
       "åø\\_(?)_/åø         1  1.000000\n",
       "\n",
       "[3341 rows x 2 columns]"
      ]
     },
     "execution_count": 5,
     "metadata": {},
     "output_type": "execute_result"
    }
   ],
   "source": [
    "tp_by_keyword_df = (train_df\n",
    "                    .groupby(by=\"location\")\n",
    "                    .agg([\"count\", \"mean\"])[\"target\"]\n",
    "                    .sort_values(\"count\", ascending=False))\n",
    "tp_by_keyword_df"
   ]
  },
  {
   "cell_type": "code",
   "execution_count": null,
   "id": "1a9be0ce",
   "metadata": {
    "papermill": {
     "duration": 0.003214,
     "end_time": "2022-11-06T16:45:40.282108",
     "exception": false,
     "start_time": "2022-11-06T16:45:40.278894",
     "status": "completed"
    },
    "tags": []
   },
   "outputs": [],
   "source": []
  }
 ],
 "metadata": {
  "kernelspec": {
   "display_name": "Python 3",
   "language": "python",
   "name": "python3"
  },
  "language_info": {
   "codemirror_mode": {
    "name": "ipython",
    "version": 3
   },
   "file_extension": ".py",
   "mimetype": "text/x-python",
   "name": "python",
   "nbconvert_exporter": "python",
   "pygments_lexer": "ipython3",
   "version": "3.7.12"
  },
  "papermill": {
   "default_parameters": {},
   "duration": 8.754489,
   "end_time": "2022-11-06T16:45:40.908605",
   "environment_variables": {},
   "exception": null,
   "input_path": "__notebook__.ipynb",
   "output_path": "__notebook__.ipynb",
   "parameters": {},
   "start_time": "2022-11-06T16:45:32.154116",
   "version": "2.3.4"
  }
 },
 "nbformat": 4,
 "nbformat_minor": 5
}

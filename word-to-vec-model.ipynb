{
 "cells": [
  {
   "cell_type": "markdown",
   "id": "c104f76e",
   "metadata": {
    "_cell_guid": "b1076dfc-b9ad-4769-8c92-a6c4dae69d19",
    "_uuid": "8f2839f25d086af736a60e9eeb907d3b93b6e0e5",
    "papermill": {
     "duration": 0.001917,
     "end_time": "2022-11-06T21:29:34.367132",
     "exception": false,
     "start_time": "2022-11-06T21:29:34.365215",
     "status": "completed"
    },
    "tags": []
   },
   "source": [
    "Check out [this blogpost](https://towardsdatascience.com/text-classification-with-nlp-tf-idf-vs-word2vec-vs-bert-41ff868d1794)"
   ]
  },
  {
   "cell_type": "code",
   "execution_count": null,
   "id": "8531bbc9",
   "metadata": {
    "papermill": {
     "duration": 0.001002,
     "end_time": "2022-11-06T21:29:34.369489",
     "exception": false,
     "start_time": "2022-11-06T21:29:34.368487",
     "status": "completed"
    },
    "tags": []
   },
   "outputs": [],
   "source": []
  }
 ],
 "metadata": {
  "kernelspec": {
   "display_name": "Python 3",
   "language": "python",
   "name": "python3"
  },
  "language_info": {
   "codemirror_mode": {
    "name": "ipython",
    "version": 3
   },
   "file_extension": ".py",
   "mimetype": "text/x-python",
   "name": "python",
   "nbconvert_exporter": "python",
   "pygments_lexer": "ipython3",
   "version": "3.7.12"
  },
  "papermill": {
   "default_parameters": {},
   "duration": 8.213115,
   "end_time": "2022-11-06T21:29:34.991416",
   "environment_variables": {},
   "exception": null,
   "input_path": "__notebook__.ipynb",
   "output_path": "__notebook__.ipynb",
   "parameters": {},
   "start_time": "2022-11-06T21:29:26.778301",
   "version": "2.3.4"
  }
 },
 "nbformat": 4,
 "nbformat_minor": 5
}

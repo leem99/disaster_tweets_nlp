{
 "cells": [
  {
   "cell_type": "markdown",
   "id": "afabf3de",
   "metadata": {
    "_cell_guid": "b1076dfc-b9ad-4769-8c92-a6c4dae69d19",
    "_uuid": "8f2839f25d086af736a60e9eeb907d3b93b6e0e5",
    "papermill": {
     "duration": 0.003872,
     "end_time": "2022-11-06T21:33:42.513856",
     "exception": false,
     "start_time": "2022-11-06T21:33:42.509984",
     "status": "completed"
    },
    "tags": []
   },
   "source": [
    "Check out [this blogpost](https://medium.com/@dilip.voleti/classification-using-word2vec-b1d79d375381)"
   ]
  },
  {
   "cell_type": "code",
   "execution_count": null,
   "id": "01df6978",
   "metadata": {
    "papermill": {
     "duration": 0.001561,
     "end_time": "2022-11-06T21:33:42.517550",
     "exception": false,
     "start_time": "2022-11-06T21:33:42.515989",
     "status": "completed"
    },
    "tags": []
   },
   "outputs": [],
   "source": []
  }
 ],
 "metadata": {
  "kernelspec": {
   "display_name": "Python 3",
   "language": "python",
   "name": "python3"
  },
  "language_info": {
   "codemirror_mode": {
    "name": "ipython",
    "version": 3
   },
   "file_extension": ".py",
   "mimetype": "text/x-python",
   "name": "python",
   "nbconvert_exporter": "python",
   "pygments_lexer": "ipython3",
   "version": "3.7.12"
  },
  "papermill": {
   "default_parameters": {},
   "duration": 9.998107,
   "end_time": "2022-11-06T21:33:43.247282",
   "environment_variables": {},
   "exception": null,
   "input_path": "__notebook__.ipynb",
   "output_path": "__notebook__.ipynb",
   "parameters": {},
   "start_time": "2022-11-06T21:33:33.249175",
   "version": "2.3.4"
  }
 },
 "nbformat": 4,
 "nbformat_minor": 5
}
